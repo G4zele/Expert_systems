{
 "cells": [
  {
   "cell_type": "code",
   "execution_count": 3,
   "id": "6dd2b2d2-8f12-4ade-95d3-2d47ff249b1f",
   "metadata": {},
   "outputs": [],
   "source": [
    "parametrs = {\n",
    "    'frends' : True,\n",
    "    'Family' : True,\n",
    "    'We_want_to_be_with_frends' : True,\n",
    "    'planned' : True,\n",
    "    'frends_answer' : False,\n",
    "    'days_left' : 20,\n",
    "}"
   ]
  },
  {
   "cell_type": "code",
   "execution_count": null,
   "id": "c1eb6443-bf0d-4ea6-9355-b4339a4d37ef",
   "metadata": {},
   "outputs": [],
   "source": [
    "print('Как встречать Новый Год?')\n",
    "print('Сколько дней до Нового Года?')\n",
    "if parametrs['days_left'] > 45:\n",
    "    print('Слишком рано, чтобы планировать')\n",
    "elif parametrs['days_left'] < 45 and parametrs['days_left'] > 0:\n",
    "    print('Пора думать как провести Новый год, мы хотим праздновать с друзьями?')\n",
    "    if parametrs['We_want_to_be_with_frends'] == True:\n",
    "        print('Да, хотим. Друзья хотят с нами праздновать?')\n",
    "        if parametrs['frends'] == True:\n",
    "            print('Да, хотят. Мы планироали как провести новый год?')\n",
    "            if parametrs['planned'] == True:\n",
    "                print('Да, планировали. Празднуем с друзьями в соответствии с планом.')\n",
    "            else:\n",
    "                print('Нет, не планировали. Планируем с друзьями, как провести новый год.')\n",
    "        else:\n",
    "            print('Нет, не хотят. Мы можем отпраздновать с семьёй?')\n",
    "            if parametrs['Family'] == True:\n",
    "                print('Да, можем. Празднуем с семьёй.')\n",
    "            else:\n",
    "                print('Нет, не можем. Празднуем одни.')\n",
    "    else:\n",
    "        print('Нет, не хотим. Можем отпраздновать с семьёй?')\n",
    "        if parametrs['Family'] == True:\n",
    "                print('Да, можем. Празднуем с семьёй.')\n",
    "            else:\n",
    "                print('Нет, не можем. Празднуем одни.')\n",
    "elif parametrs['days_left'] < 0:\n",
    "    print('Слишком поздно размышлять, будь что будет')\n",
    "    \n",
    "    "
   ]
  }
 ],
 "metadata": {
  "kernelspec": {
   "display_name": "Python 3 (ipykernel)",
   "language": "python",
   "name": "python3"
  },
  "language_info": {
   "codemirror_mode": {
    "name": "ipython",
    "version": 3
   },
   "file_extension": ".py",
   "mimetype": "text/x-python",
   "name": "python",
   "nbconvert_exporter": "python",
   "pygments_lexer": "ipython3",
   "version": "3.10.9"
  }
 },
 "nbformat": 4,
 "nbformat_minor": 5
}
